{
 "cells": [
  {
   "cell_type": "code",
   "execution_count": 1,
   "metadata": {},
   "outputs": [],
   "source": [
    "from tkinter import *\n",
    "from PIL import ImageTk,Image,ImageDraw\n",
    "import numpy as np\n",
    "import matplotlib.pyplot as plt\n",
    "import cv2"
   ]
  },
  {
   "cell_type": "code",
   "execution_count": 2,
   "metadata": {},
   "outputs": [],
   "source": [
    "from tensorflow import keras"
   ]
  },
  {
   "cell_type": "code",
   "execution_count": 4,
   "metadata": {},
   "outputs": [],
   "source": [
    "def predict():\n",
    "    #plt.imshow(image1)\n",
    "    #plt.show()\n",
    "    img_np=np.array(image1)\n",
    "    img3=np.squeeze(img_np)\n",
    "    cv2_img= cv2.cvtColor(img3,cv2.COLOR_BGR2GRAY)\n",
    "    im2 = cv2.resize(cv2_img, (28, 28))\n",
    "    im = im2.reshape(28, 28,1)\n",
    "    \n",
    "    im = cv2.bitwise_not(im) \n",
    "    #plt.imshow(im)\n",
    "    #plt.show()\n",
    "    #print(im.shape)\n",
    "    val=model.predict(im.reshape(1,28,28,1))\n",
    "    #print(val)\n",
    "    #print(np.argmax(val))\n",
    "    l1['text']= \"The predicted text is: \"+ str(np.argmax(val)) \n",
    "    \n",
    "\n",
    "def paint(event):\n",
    "    x1,y1=(event.x-1), (event.y-1)\n",
    "    x2,y2=(event.x+1), (event.y+1)\n",
    "    cv.create_oval(x1,y1,x2,y2,fill=\"red\",width=50)\n",
    "    draw.line([x1,y1,x2,y2],fill=\"red\",width=50)\n",
    "\n",
    "\n",
    "root=Tk()\n",
    "root.resizable(0,0)\n",
    "cv=Canvas(root,bg=\"white\", width= 500, height=500)\n",
    "cv.pack()\n",
    "model=keras.models.load_model('model_mnist1.h5')\n",
    "image1= Image.new(\"RGB\",(500,500), \"white\")\n",
    "draw=ImageDraw.Draw(image1)\n",
    "cv.pack(expand=YES,fill=BOTH)\n",
    "cv.bind(\"<B1-Motion>\",paint)\n",
    "\n",
    "button1=Button(root,text=\"Predict\", command= predict)\n",
    "button1.pack()\n",
    "l1= Label(root,text=\"The predicted text is:  \")\n",
    "l1.pack()\n",
    "root.mainloop()"
   ]
  },
  {
   "cell_type": "code",
   "execution_count": null,
   "metadata": {},
   "outputs": [],
   "source": []
  }
 ],
 "metadata": {
  "kernelspec": {
   "display_name": "Python 3",
   "language": "python",
   "name": "python3"
  },
  "language_info": {
   "codemirror_mode": {
    "name": "ipython",
    "version": 3
   },
   "file_extension": ".py",
   "mimetype": "text/x-python",
   "name": "python",
   "nbconvert_exporter": "python",
   "pygments_lexer": "ipython3",
   "version": "3.7.3"
  }
 },
 "nbformat": 4,
 "nbformat_minor": 2
}
