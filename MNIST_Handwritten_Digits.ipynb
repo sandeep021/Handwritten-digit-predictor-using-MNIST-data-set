{
  "nbformat": 4,
  "nbformat_minor": 0,
  "metadata": {
    "colab": {
      "name": "MNIST_Handwritten_Digits.ipynb",
      "provenance": [],
      "collapsed_sections": [],
      "include_colab_link": true
    },
    "kernelspec": {
      "name": "python3",
      "display_name": "Python 3"
    }
  },
  "cells": [
    {
      "cell_type": "markdown",
      "metadata": {
        "id": "view-in-github",
        "colab_type": "text"
      },
      "source": [
        "<a href=\"https://colab.research.google.com/github/utkarsh0702/Handwritten-digit-predictor-using-MNIST-data-set/blob/master/MNIST_Handwritten_Digits.ipynb\" target=\"_parent\"><img src=\"https://colab.research.google.com/assets/colab-badge.svg\" alt=\"Open In Colab\"/></a>"
      ]
    },
    {
      "cell_type": "code",
      "metadata": {
        "id": "v4eju6zNXViX",
        "colab_type": "code",
        "colab": {}
      },
      "source": [
        "from tensorflow import keras\n",
        "import numpy as np\n",
        "import matplotlib.pyplot as plt"
      ],
      "execution_count": 0,
      "outputs": []
    },
    {
      "cell_type": "code",
      "metadata": {
        "id": "tNKZUZkXX0wv",
        "colab_type": "code",
        "colab": {}
      },
      "source": [
        "(train_images, train_labels),(test_images, test_labels)= keras.datasets.mnist.load_data()\n",
        "\n",
        "#Normalization\n",
        "train_images= train_images.reshape(60000,28,28,1)\n",
        "train_images= train_images/255.0\n",
        "test_images= test_images.reshape(10000,28,28,1)\n",
        "test_images= test_images/255.0"
      ],
      "execution_count": 0,
      "outputs": []
    },
    {
      "cell_type": "code",
      "metadata": {
        "id": "Iq5CtHnYaYFj",
        "colab_type": "code",
        "outputId": "88297ec0-6a84-4ed3-e961-9f8d7a855bca",
        "colab": {
          "base_uri": "https://localhost:8080/",
          "height": 425
        }
      },
      "source": [
        "# Creating a CNN model\n",
        "model= keras.models.Sequential([\n",
        "    keras.layers.Conv2D(64,(3,3), activation='relu', input_shape=(28,28,1)),\n",
        "    keras.layers.MaxPooling2D(2,2),\n",
        "    keras.layers.Conv2D(64,(3,3), activation='relu'),\n",
        "    keras.layers.MaxPooling2D(2,2),\n",
        "    keras.layers.GlobalAveragePooling2D(),\n",
        "    keras.layers.Flatten(),\n",
        "    keras.layers.Dense(128, activation='relu'),\n",
        "    keras.layers.Dense(10, activation='softmax')\n",
        "])\n",
        "\n",
        "model.summary()"
      ],
      "execution_count": 0,
      "outputs": [
        {
          "output_type": "stream",
          "text": [
            "Model: \"sequential_1\"\n",
            "_________________________________________________________________\n",
            "Layer (type)                 Output Shape              Param #   \n",
            "=================================================================\n",
            "conv2d_2 (Conv2D)            (None, 26, 26, 64)        640       \n",
            "_________________________________________________________________\n",
            "max_pooling2d_2 (MaxPooling2 (None, 13, 13, 64)        0         \n",
            "_________________________________________________________________\n",
            "conv2d_3 (Conv2D)            (None, 11, 11, 64)        36928     \n",
            "_________________________________________________________________\n",
            "max_pooling2d_3 (MaxPooling2 (None, 5, 5, 64)          0         \n",
            "_________________________________________________________________\n",
            "global_average_pooling2d (Gl (None, 64)                0         \n",
            "_________________________________________________________________\n",
            "flatten_1 (Flatten)          (None, 64)                0         \n",
            "_________________________________________________________________\n",
            "dense_2 (Dense)              (None, 128)               8320      \n",
            "_________________________________________________________________\n",
            "dense_3 (Dense)              (None, 10)                1290      \n",
            "=================================================================\n",
            "Total params: 47,178\n",
            "Trainable params: 47,178\n",
            "Non-trainable params: 0\n",
            "_________________________________________________________________\n"
          ],
          "name": "stdout"
        }
      ]
    },
    {
      "cell_type": "code",
      "metadata": {
        "id": "cqcj0TKUbev9",
        "colab_type": "code",
        "colab": {}
      },
      "source": [
        "model.compile(optimizer='adam', loss='sparse_categorical_crossentropy', metrics=['acc'])"
      ],
      "execution_count": 0,
      "outputs": []
    },
    {
      "cell_type": "code",
      "metadata": {
        "id": "R8q4ovFya7S5",
        "colab_type": "code",
        "outputId": "53bf7695-8350-4de3-ea46-6fef75c361f1",
        "colab": {
          "base_uri": "https://localhost:8080/",
          "height": 731
        }
      },
      "source": [
        "model.fit(train_images, train_labels, epochs= 20)"
      ],
      "execution_count": 0,
      "outputs": [
        {
          "output_type": "stream",
          "text": [
            "Train on 60000 samples\n",
            "Epoch 1/20\n",
            "60000/60000 [==============================] - 77s 1ms/sample - loss: 0.4787 - acc: 0.8499\n",
            "Epoch 2/20\n",
            "60000/60000 [==============================] - 77s 1ms/sample - loss: 0.2600 - acc: 0.9193\n",
            "Epoch 3/20\n",
            "60000/60000 [==============================] - 77s 1ms/sample - loss: 0.1932 - acc: 0.9397\n",
            "Epoch 4/20\n",
            "60000/60000 [==============================] - 78s 1ms/sample - loss: 0.1555 - acc: 0.9518\n",
            "Epoch 5/20\n",
            "60000/60000 [==============================] - 78s 1ms/sample - loss: 0.1286 - acc: 0.9606\n",
            "Epoch 6/20\n",
            "60000/60000 [==============================] - 78s 1ms/sample - loss: 0.1136 - acc: 0.9647\n",
            "Epoch 7/20\n",
            "60000/60000 [==============================] - 78s 1ms/sample - loss: 0.0998 - acc: 0.9689\n",
            "Epoch 8/20\n",
            "60000/60000 [==============================] - 77s 1ms/sample - loss: 0.0891 - acc: 0.9721\n",
            "Epoch 9/20\n",
            "60000/60000 [==============================] - 78s 1ms/sample - loss: 0.0804 - acc: 0.9751\n",
            "Epoch 10/20\n",
            "60000/60000 [==============================] - 78s 1ms/sample - loss: 0.0719 - acc: 0.9773\n",
            "Epoch 11/20\n",
            "60000/60000 [==============================] - 78s 1ms/sample - loss: 0.0681 - acc: 0.9790\n",
            "Epoch 12/20\n",
            "60000/60000 [==============================] - 78s 1ms/sample - loss: 0.0629 - acc: 0.9799\n",
            "Epoch 13/20\n",
            "60000/60000 [==============================] - 77s 1ms/sample - loss: 0.0589 - acc: 0.9813\n",
            "Epoch 14/20\n",
            "60000/60000 [==============================] - 77s 1ms/sample - loss: 0.0543 - acc: 0.9830\n",
            "Epoch 15/20\n",
            "60000/60000 [==============================] - 77s 1ms/sample - loss: 0.0499 - acc: 0.9841\n",
            "Epoch 16/20\n",
            "60000/60000 [==============================] - 76s 1ms/sample - loss: 0.0460 - acc: 0.9847\n",
            "Epoch 17/20\n",
            "60000/60000 [==============================] - 76s 1ms/sample - loss: 0.0438 - acc: 0.9859\n",
            "Epoch 18/20\n",
            "60000/60000 [==============================] - 76s 1ms/sample - loss: 0.0409 - acc: 0.9868\n",
            "Epoch 19/20\n",
            "60000/60000 [==============================] - 77s 1ms/sample - loss: 0.0384 - acc: 0.9880\n",
            "Epoch 20/20\n",
            "60000/60000 [==============================] - 76s 1ms/sample - loss: 0.0375 - acc: 0.9876\n"
          ],
          "name": "stdout"
        },
        {
          "output_type": "execute_result",
          "data": {
            "text/plain": [
              "<tensorflow.python.keras.callbacks.History at 0x7f418183af28>"
            ]
          },
          "metadata": {
            "tags": []
          },
          "execution_count": 17
        }
      ]
    },
    {
      "cell_type": "code",
      "metadata": {
        "id": "mQAcWEBwhCX3",
        "colab_type": "code",
        "outputId": "49e95476-5b21-4d35-e2eb-835994b3b361",
        "colab": {
          "base_uri": "https://localhost:8080/",
          "height": 51
        }
      },
      "source": [
        "model.evaluate(test_images, test_labels)"
      ],
      "execution_count": 0,
      "outputs": [
        {
          "output_type": "stream",
          "text": [
            "10000/10000 [==============================] - 4s 371us/sample - loss: 0.0687 - acc: 0.9791\n"
          ],
          "name": "stdout"
        },
        {
          "output_type": "execute_result",
          "data": {
            "text/plain": [
              "[0.0686779416280333, 0.9791]"
            ]
          },
          "metadata": {
            "tags": []
          },
          "execution_count": 18
        }
      ]
    },
    {
      "cell_type": "code",
      "metadata": {
        "id": "q67uh66-f5Ie",
        "colab_type": "code",
        "colab": {}
      },
      "source": [
        "!pip install -U -q PyDrive\n",
        "from pydrive.auth import GoogleAuth\n",
        "from pydrive.drive import GoogleDrive\n",
        "from google.colab import auth\n",
        "from oauth2client.client import GoogleCredentials"
      ],
      "execution_count": 0,
      "outputs": []
    },
    {
      "cell_type": "code",
      "metadata": {
        "id": "8NNNoSw6gPM7",
        "colab_type": "code",
        "colab": {}
      },
      "source": [
        "auth.authenticate_user()\n",
        "gauth= GoogleAuth()\n",
        "gauth.credentials= GoogleCredentials.get_application_default()\n",
        "drive= GoogleDrive(gauth)"
      ],
      "execution_count": 0,
      "outputs": []
    },
    {
      "cell_type": "code",
      "metadata": {
        "id": "v7W3teOLgTXI",
        "colab_type": "code",
        "outputId": "63a5330e-23e8-43da-91d3-923a987fd1c2",
        "colab": {
          "base_uri": "https://localhost:8080/",
          "height": 34
        }
      },
      "source": [
        "model.save('model_mnist.pt')\n",
        "model_file= drive.CreateFile({'title':'model_mnist.pt'})\n",
        "model_file.SetContentFile('model_mnist.pt')\n",
        "model_file.Upload()\n",
        "drive.CreateFile({'id':model_file.get('id')})"
      ],
      "execution_count": 0,
      "outputs": [
        {
          "output_type": "execute_result",
          "data": {
            "text/plain": [
              "GoogleDriveFile({'id': '1U34BeqUJvsaIynYpYIYeH2ZXD-O3-DD2'})"
            ]
          },
          "metadata": {
            "tags": []
          },
          "execution_count": 22
        }
      ]
    },
    {
      "cell_type": "code",
      "metadata": {
        "id": "o1hJLxxMgcxZ",
        "colab_type": "code",
        "outputId": "ab27d88a-59f1-43cc-f005-9d815250bfdc",
        "colab": {
          "base_uri": "https://localhost:8080/",
          "height": 34
        }
      },
      "source": [
        "print(model)"
      ],
      "execution_count": 0,
      "outputs": [
        {
          "output_type": "stream",
          "text": [
            "<tensorflow.python.keras.engine.sequential.Sequential object at 0x7f41809c1eb8>\n"
          ],
          "name": "stdout"
        }
      ]
    },
    {
      "cell_type": "code",
      "metadata": {
        "id": "89aWe-kRiuM3",
        "colab_type": "code",
        "colab": {}
      },
      "source": [
        "model.save(\"model_mnist.h5\")"
      ],
      "execution_count": 0,
      "outputs": []
    }
  ]
}