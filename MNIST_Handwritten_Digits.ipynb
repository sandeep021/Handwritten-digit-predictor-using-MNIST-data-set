{
  "nbformat": 4,
  "nbformat_minor": 0,
  "metadata": {
    "colab": {
      "name": "MNIST_Handwritten_Digits.ipynb",
      "provenance": [],
      "collapsed_sections": [],
      "include_colab_link": true
    },
    "kernelspec": {
      "name": "python3",
      "display_name": "Python 3"
    },
    "accelerator": "GPU"
  },
  "cells": [
    {
      "cell_type": "markdown",
      "metadata": {
        "id": "view-in-github",
        "colab_type": "text"
      },
      "source": [
        "<a href=\"https://colab.research.google.com/github/utkarsh0702/Handwritten-digit-predictor-using-MNIST-data-set/blob/master/MNIST_Handwritten_Digits.ipynb\" target=\"_parent\"><img src=\"https://colab.research.google.com/assets/colab-badge.svg\" alt=\"Open In Colab\"/></a>"
      ]
    },
    {
      "cell_type": "code",
      "metadata": {
        "id": "v4eju6zNXViX",
        "colab_type": "code",
        "outputId": "cf9c4d8d-4bba-4a2e-867a-8a7721e101ca",
        "colab": {
          "base_uri": "https://localhost:8080/",
          "height": 80
        }
      },
      "source": [
        "from tensorflow import keras\n",
        "import numpy as np\n",
        "import matplotlib.pyplot as plt\n",
        "import numpy as np"
      ],
      "execution_count": 0,
      "outputs": [
        {
          "output_type": "display_data",
          "data": {
            "text/html": [
              "<p style=\"color: red;\">\n",
              "The default version of TensorFlow in Colab will soon switch to TensorFlow 2.x.<br>\n",
              "We recommend you <a href=\"https://www.tensorflow.org/guide/migrate\" target=\"_blank\">upgrade</a> now \n",
              "or ensure your notebook will continue to use TensorFlow 1.x via the <code>%tensorflow_version 1.x</code> magic:\n",
              "<a href=\"https://colab.research.google.com/notebooks/tensorflow_version.ipynb\" target=\"_blank\">more info</a>.</p>\n"
            ],
            "text/plain": [
              "<IPython.core.display.HTML object>"
            ]
          },
          "metadata": {
            "tags": []
          }
        }
      ]
    },
    {
      "cell_type": "code",
      "metadata": {
        "id": "tNKZUZkXX0wv",
        "colab_type": "code",
        "outputId": "5c281006-5631-405a-e0e9-09f1d925567d",
        "colab": {
          "base_uri": "https://localhost:8080/",
          "height": 51
        }
      },
      "source": [
        "(train_images, train_labels),(test_images, test_labels)= keras.datasets.mnist.load_data()\n",
        "\n",
        "#Normalization\n",
        "train_images= train_images.reshape(train_images.shape[0],28,28,1).astype('float32')\n",
        "train_images= train_images/255.0\n",
        "test_images= test_images.reshape(test_images.shape[0],28,28,1).astype('float32')\n",
        "test_images= test_images/255.0"
      ],
      "execution_count": 0,
      "outputs": [
        {
          "output_type": "stream",
          "text": [
            "Downloading data from https://storage.googleapis.com/tensorflow/tf-keras-datasets/mnist.npz\n",
            "11493376/11490434 [==============================] - 0s 0us/step\n"
          ],
          "name": "stdout"
        }
      ]
    },
    {
      "cell_type": "code",
      "metadata": {
        "id": "Iq5CtHnYaYFj",
        "colab_type": "code",
        "outputId": "4842cc31-eed3-4f68-c6a2-bd40c7e83dc9",
        "colab": {
          "base_uri": "https://localhost:8080/",
          "height": 459
        }
      },
      "source": [
        "# Creating a CNN model\n",
        "model1= keras.models.Sequential([\n",
        "    keras.layers.Conv2D(30,(3,3),activation='relu', input_shape=(28,28,1)),\n",
        "    keras.layers.MaxPooling2D(2,2),\n",
        "    keras.layers.Conv2D(15,(3,3), activation='relu'),\n",
        "    keras.layers.MaxPooling2D(2,2),\n",
        "    keras.layers.Dropout(0.2),\n",
        "    keras.layers.Flatten(),\n",
        "    keras.layers.Dense(128, activation='relu'),\n",
        "    keras.layers.Dense(50, activation='relu'),\n",
        "    keras.layers.Dense(10, activation='softmax')\n",
        "])\n",
        "\n",
        "model1.summary()"
      ],
      "execution_count": 0,
      "outputs": [
        {
          "output_type": "stream",
          "text": [
            "Model: \"sequential_1\"\n",
            "_________________________________________________________________\n",
            "Layer (type)                 Output Shape              Param #   \n",
            "=================================================================\n",
            "conv2d_2 (Conv2D)            (None, 26, 26, 30)        300       \n",
            "_________________________________________________________________\n",
            "max_pooling2d_2 (MaxPooling2 (None, 13, 13, 30)        0         \n",
            "_________________________________________________________________\n",
            "conv2d_3 (Conv2D)            (None, 11, 11, 15)        4065      \n",
            "_________________________________________________________________\n",
            "max_pooling2d_3 (MaxPooling2 (None, 5, 5, 15)          0         \n",
            "_________________________________________________________________\n",
            "dropout_1 (Dropout)          (None, 5, 5, 15)          0         \n",
            "_________________________________________________________________\n",
            "flatten_1 (Flatten)          (None, 375)               0         \n",
            "_________________________________________________________________\n",
            "dense_3 (Dense)              (None, 128)               48128     \n",
            "_________________________________________________________________\n",
            "dense_4 (Dense)              (None, 50)                6450      \n",
            "_________________________________________________________________\n",
            "dense_5 (Dense)              (None, 10)                510       \n",
            "=================================================================\n",
            "Total params: 59,453\n",
            "Trainable params: 59,453\n",
            "Non-trainable params: 0\n",
            "_________________________________________________________________\n"
          ],
          "name": "stdout"
        }
      ]
    },
    {
      "cell_type": "code",
      "metadata": {
        "id": "cqcj0TKUbev9",
        "colab_type": "code",
        "colab": {}
      },
      "source": [
        "model1.compile(optimizer='adam', loss='sparse_categorical_crossentropy', metrics=['acc'])"
      ],
      "execution_count": 0,
      "outputs": []
    },
    {
      "cell_type": "code",
      "metadata": {
        "id": "R8q4ovFya7S5",
        "colab_type": "code",
        "outputId": "72bc4382-0ce9-47f5-ffd2-43f1856d7599",
        "colab": {
          "base_uri": "https://localhost:8080/",
          "height": 731
        }
      },
      "source": [
        "model1.fit(train_images, train_labels, epochs= 20)"
      ],
      "execution_count": 0,
      "outputs": [
        {
          "output_type": "stream",
          "text": [
            "Train on 60000 samples\n",
            "Epoch 1/20\n",
            "60000/60000 [==============================] - 11s 190us/sample - loss: 0.2129 - acc: 0.9338\n",
            "Epoch 2/20\n",
            "60000/60000 [==============================] - 5s 91us/sample - loss: 0.0747 - acc: 0.9770\n",
            "Epoch 3/20\n",
            "60000/60000 [==============================] - 5s 89us/sample - loss: 0.0546 - acc: 0.9832\n",
            "Epoch 4/20\n",
            "60000/60000 [==============================] - 5s 90us/sample - loss: 0.0436 - acc: 0.9861\n",
            "Epoch 5/20\n",
            "60000/60000 [==============================] - 5s 89us/sample - loss: 0.0397 - acc: 0.9868\n",
            "Epoch 6/20\n",
            "60000/60000 [==============================] - 5s 89us/sample - loss: 0.0356 - acc: 0.9888\n",
            "Epoch 7/20\n",
            "60000/60000 [==============================] - 5s 87us/sample - loss: 0.0305 - acc: 0.9903\n",
            "Epoch 8/20\n",
            "60000/60000 [==============================] - 5s 87us/sample - loss: 0.0279 - acc: 0.9910\n",
            "Epoch 9/20\n",
            "60000/60000 [==============================] - 5s 88us/sample - loss: 0.0243 - acc: 0.9922\n",
            "Epoch 10/20\n",
            "60000/60000 [==============================] - 5s 88us/sample - loss: 0.0234 - acc: 0.9926\n",
            "Epoch 11/20\n",
            "60000/60000 [==============================] - 5s 88us/sample - loss: 0.0214 - acc: 0.9932\n",
            "Epoch 12/20\n",
            "60000/60000 [==============================] - 5s 88us/sample - loss: 0.0202 - acc: 0.9934\n",
            "Epoch 13/20\n",
            "60000/60000 [==============================] - 5s 88us/sample - loss: 0.0193 - acc: 0.9934\n",
            "Epoch 14/20\n",
            "60000/60000 [==============================] - 5s 85us/sample - loss: 0.0179 - acc: 0.9940\n",
            "Epoch 15/20\n",
            "60000/60000 [==============================] - 5s 89us/sample - loss: 0.0173 - acc: 0.9944\n",
            "Epoch 16/20\n",
            "60000/60000 [==============================] - 5s 88us/sample - loss: 0.0159 - acc: 0.9949\n",
            "Epoch 17/20\n",
            "60000/60000 [==============================] - 5s 89us/sample - loss: 0.0145 - acc: 0.9952\n",
            "Epoch 18/20\n",
            "60000/60000 [==============================] - 5s 87us/sample - loss: 0.0152 - acc: 0.9949\n",
            "Epoch 19/20\n",
            "60000/60000 [==============================] - 5s 89us/sample - loss: 0.0134 - acc: 0.9955\n",
            "Epoch 20/20\n",
            "60000/60000 [==============================] - 5s 89us/sample - loss: 0.0143 - acc: 0.9952\n"
          ],
          "name": "stdout"
        },
        {
          "output_type": "execute_result",
          "data": {
            "text/plain": [
              "<tensorflow.python.keras.callbacks.History at 0x7f195fa4dc50>"
            ]
          },
          "metadata": {
            "tags": []
          },
          "execution_count": 6
        }
      ]
    },
    {
      "cell_type": "code",
      "metadata": {
        "id": "mQAcWEBwhCX3",
        "colab_type": "code",
        "outputId": "57ed09a4-b64a-4aae-be59-f499c15561d1",
        "colab": {
          "base_uri": "https://localhost:8080/",
          "height": 51
        }
      },
      "source": [
        "model1.evaluate(test_images, test_labels)"
      ],
      "execution_count": 0,
      "outputs": [
        {
          "output_type": "stream",
          "text": [
            "10000/10000 [==============================] - 1s 57us/sample - loss: 0.0312 - acc: 0.9925\n"
          ],
          "name": "stdout"
        },
        {
          "output_type": "execute_result",
          "data": {
            "text/plain": [
              "[0.03116759238645509, 0.9925]"
            ]
          },
          "metadata": {
            "tags": []
          },
          "execution_count": 8
        }
      ]
    },
    {
      "cell_type": "code",
      "metadata": {
        "id": "q67uh66-f5Ie",
        "colab_type": "code",
        "colab": {}
      },
      "source": [
        "!pip install -U -q PyDrive\n",
        "from pydrive.auth import GoogleAuth\n",
        "from pydrive.drive import GoogleDrive\n",
        "from google.colab import auth\n",
        "from oauth2client.client import GoogleCredentials"
      ],
      "execution_count": 0,
      "outputs": []
    },
    {
      "cell_type": "code",
      "metadata": {
        "id": "8NNNoSw6gPM7",
        "colab_type": "code",
        "colab": {}
      },
      "source": [
        "auth.authenticate_user()\n",
        "gauth= GoogleAuth()\n",
        "gauth.credentials= GoogleCredentials.get_application_default()\n",
        "drive= GoogleDrive(gauth)"
      ],
      "execution_count": 0,
      "outputs": []
    },
    {
      "cell_type": "code",
      "metadata": {
        "id": "v7W3teOLgTXI",
        "colab_type": "code",
        "outputId": "0950574f-58f8-4329-f584-4d8508860190",
        "colab": {
          "base_uri": "https://localhost:8080/",
          "height": 34
        }
      },
      "source": [
        "model1.save('model_mnist1.h5')\n",
        "model_file= drive.CreateFile({'title':'model_mnist1.h5'})\n",
        "model_file.SetContentFile('model_mnist1.h5')\n",
        "model_file.Upload()\n",
        "drive.CreateFile({'id':model_file.get('id')})"
      ],
      "execution_count": 0,
      "outputs": [
        {
          "output_type": "execute_result",
          "data": {
            "text/plain": [
              "GoogleDriveFile({'id': '1YpCDCEEU0_J28K31OS8m12JvYfyzaNp2'})"
            ]
          },
          "metadata": {
            "tags": []
          },
          "execution_count": 15
        }
      ]
    },
    {
      "cell_type": "code",
      "metadata": {
        "id": "o1hJLxxMgcxZ",
        "colab_type": "code",
        "outputId": "9cc79417-dbfd-4f8e-c6f4-55bf97c6a846",
        "colab": {
          "base_uri": "https://localhost:8080/",
          "height": 34
        }
      },
      "source": [
        "print(model1)"
      ],
      "execution_count": 0,
      "outputs": [
        {
          "output_type": "stream",
          "text": [
            "<tensorflow.python.keras.engine.sequential.Sequential object at 0x7f196de3b320>\n"
          ],
          "name": "stdout"
        }
      ]
    },
    {
      "cell_type": "code",
      "metadata": {
        "id": "89aWe-kRiuM3",
        "colab_type": "code",
        "colab": {}
      },
      "source": [
        "model1.save(\"model_mnist.h5\")"
      ],
      "execution_count": 0,
      "outputs": []
    }
  ]
}